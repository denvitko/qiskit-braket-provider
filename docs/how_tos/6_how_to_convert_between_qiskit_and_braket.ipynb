{
 "cells": [
  {
   "cell_type": "markdown",
   "id": "69ec639d",
   "metadata": {},
   "source": [
    "# How-to: convert between Qiskit and Braket circuits\n",
    "\n",
    "This notebook demonstrates how to convert a Qiskit quantum circuit into a Braket quantum circuit and vice versa. It shows the process of creating simple quantum circuits in both Qiskit and Braket, running the circuits, retrieving results, and converting them to each other."
   ]
  },
  {
   "cell_type": "code",
   "execution_count": 401,
   "id": "62d1c289",
   "metadata": {},
   "outputs": [],
   "source": [
    "# !pip install qiskit_braket_provider\n",
    "# !pip install qiskit"
   ]
  },
  {
   "cell_type": "code",
   "execution_count": 402,
   "id": "cad5de5a",
   "metadata": {
    "scrolled": true
   },
   "outputs": [],
   "source": [
    "from qiskit import *\n",
    "from qiskit.visualization import *\n",
    "from qiskit.circuit.random import random_circuit\n",
    "\n",
    "from braket import *\n",
    "from braket.circuits import *\n",
    "\n",
    "from qiskit_braket_provider import *\n",
    "from qiskit_braket_provider.providers.adapter import *"
   ]
  },
  {
   "cell_type": "markdown",
   "id": "e2d128b8",
   "metadata": {},
   "source": [
    "---"
   ]
  },
  {
   "cell_type": "markdown",
   "id": "c1fa2d52",
   "metadata": {},
   "source": [
    "## Qiskit to Braket"
   ]
  },
  {
   "cell_type": "markdown",
   "id": "858f0473",
   "metadata": {},
   "source": [
    "### Construct Qiskit quantum circuits\n",
    "\n",
    "First, we have to construct Qiskit `QuantumCircuit`s to work with. We used `random_circuit` function for testing purposes. \n",
    "\n",
    "For more information on Qiskit `QuantumCircuit`s take a look into the [documentation](https://qiskit.org/documentation/stubs/qiskit.circuit.QuantumCircuit.html)."
   ]
  },
  {
   "cell_type": "code",
   "execution_count": 404,
   "id": "ccd04be1",
   "metadata": {},
   "outputs": [],
   "source": [
    "q_qc0 = random_circuit(1, 3, measure=True)\n",
    "q_qc1 = random_circuit(2, 5, measure=True, reset=True, seed=33)\n",
    "q_qc2 = random_circuit(5, 7, seed=121)\n",
    "q_qc3 = random_circuit(3, 13, measure=True, seed=1024)\n",
    "\n",
    "q_circuits = [q_qc0, q_qc1, q_qc2, q_qc3]"
   ]
  },
  {
   "cell_type": "code",
   "execution_count": 405,
   "id": "3be1a3a1",
   "metadata": {
    "scrolled": true
   },
   "outputs": [],
   "source": [
    "# for q_circuit in q_circuits:\n",
    "#     display(q_circuit.draw())"
   ]
  },
  {
   "cell_type": "markdown",
   "id": "d13832b2",
   "metadata": {},
   "source": [
    "### Measure Qiskit quantum circuits and add noise\n",
    "\n",
    "..."
   ]
  },
  {
   "cell_type": "markdown",
   "id": "d4606800",
   "metadata": {},
   "source": [
    "### Convert circuits to Braket\n",
    "\n",
    "Qiskit provides two functions for conversion to Braket. The first of the functions takes only one Qiskit `QuantumCircuit` and returns the corresponding Braket `Circuit`. The second one takes a list of Qiskit `QuantumCircuit`s.\n",
    "\n",
    "You can learn more about each of them using the `help()` function."
   ]
  },
  {
   "cell_type": "code",
   "execution_count": 406,
   "id": "4a897a90",
   "metadata": {
    "scrolled": true
   },
   "outputs": [],
   "source": [
    "# help(convert_qiskit_to_braket_circuit)\n",
    "# help(convert_qiskit_to_braket_circuits)"
   ]
  },
  {
   "cell_type": "markdown",
   "id": "34f5d944",
   "metadata": {},
   "source": [
    "Now we can test them."
   ]
  },
  {
   "cell_type": "code",
   "execution_count": 408,
   "id": "e138b9b5",
   "metadata": {
    "scrolled": false
   },
   "outputs": [],
   "source": [
    "# print(convert_qiskit_to_braket_circuit(q_circuits[1]))\n",
    "# q_circuits[1].draw()"
   ]
  },
  {
   "cell_type": "code",
   "execution_count": 339,
   "id": "91b6c0a8",
   "metadata": {
    "scrolled": false
   },
   "outputs": [],
   "source": [
    "# b_converted = convert_qiskit_to_braket_circuits(q_circuits)\n",
    "# for b_circuit in b_converted:\n",
    "#     print(b_circuit)"
   ]
  },
  {
   "cell_type": "markdown",
   "id": "3a926a9c",
   "metadata": {},
   "source": [
    "### Perform some operations on the converted Braket circuits\n",
    "\n",
    "..."
   ]
  },
  {
   "cell_type": "markdown",
   "id": "c7b60e9d",
   "metadata": {},
   "source": [
    "---"
   ]
  },
  {
   "cell_type": "markdown",
   "id": "3803ccd9",
   "metadata": {},
   "source": [
    "## Braket to Qiskit"
   ]
  },
  {
   "cell_type": "markdown",
   "id": "24ab96d3",
   "metadata": {},
   "source": [
    "### Construct Braket quantum circuits\n",
    "\n",
    "First, we have to construct Braket `Circuit`s to work with. Braket does not have `random_circuit` function.\n",
    "\n",
    "For more information on Braket `Circuit`s take a look into the [documentation](https://docs.aws.amazon.com/braket/latest/developerguide/braket-constructing-circuit.html)."
   ]
  },
  {
   "cell_type": "code",
   "execution_count": 424,
   "id": "212ac6fd",
   "metadata": {},
   "outputs": [],
   "source": [
    "b_qc0 = Circuit().x(0).y(1).z(0).x(1).cnot(0,1).xy(0, 1, 0.15)\n",
    "b_qc1 = Circuit().ccnot(0,1,2)\n",
    "b_qc2 = Circuit().h(0).cnot(control=0, target=1)\n",
    "\n",
    "alpha = FreeParameter(\"alpha\")\n",
    "b_qc3 = Circuit().h(range(4)).cnot(control=0, target=2).cnot(control=1, target=3).h(range(3)).cnot(control=0, target=2).rx(0, alpha).rx(1, alpha)\n",
    "\n",
    "b_circuits = [b_qc0, b_qc1, b_qc2, b_qc3]\n",
    "\n",
    "# print(b_qc3)"
   ]
  },
  {
   "cell_type": "code",
   "execution_count": 232,
   "id": "6325efbb",
   "metadata": {
    "scrolled": false
   },
   "outputs": [],
   "source": [
    "# for b_circuit in b_circuits:\n",
    "#     print(b_circuit)"
   ]
  },
  {
   "cell_type": "markdown",
   "id": "9acc0272",
   "metadata": {},
   "source": [
    "### Measure Braket quantum circuits and add noise\n",
    "\n",
    "..."
   ]
  },
  {
   "cell_type": "markdown",
   "id": "62abedd3",
   "metadata": {},
   "source": [
    "### Convert circuits from Braket\n",
    "\n",
    "Qiskit provides two functions for conversion from Braket. The first of the functions takes only one Braket `Circuit` and returns the corresponding Qiskit `QuantumCircuit`. The second one takes a list of Braket `Circuit`s.\n",
    "\n",
    "You can learn more about each of them using the `help()` function."
   ]
  },
  {
   "cell_type": "code",
   "execution_count": 233,
   "id": "c362e138",
   "metadata": {
    "scrolled": false
   },
   "outputs": [],
   "source": [
    "# help(from_braket_circuit)\n",
    "# help(from_braket_circuits)"
   ]
  },
  {
   "cell_type": "markdown",
   "id": "74dc8643",
   "metadata": {},
   "source": [
    "Now we can test them."
   ]
  },
  {
   "cell_type": "code",
   "execution_count": 423,
   "id": "2ec0c1dd",
   "metadata": {},
   "outputs": [
    {
     "data": {
      "text/html": [
       "<pre style=\"word-wrap: normal;white-space: pre;background: #fff0;line-height: 1.1;font-family: &quot;Courier New&quot;,Courier,monospace\">     ┌───┐      ░ \n",
       "q_0: ┤ H ├──■───░─\n",
       "     └───┘┌─┴─┐ ░ \n",
       "q_1: ─────┤ X ├─░─\n",
       "          └───┘ ░ \n",
       "c: 2/═════════════\n",
       "                  </pre>"
      ],
      "text/plain": [
       "     ┌───┐      ░ \n",
       "q_0: ┤ H ├──■───░─\n",
       "     └───┘┌─┴─┐ ░ \n",
       "q_1: ─────┤ X ├─░─\n",
       "          └───┘ ░ \n",
       "c: 2/═════════════\n",
       "                  "
      ]
     },
     "execution_count": 423,
     "metadata": {},
     "output_type": "execute_result"
    }
   ],
   "source": [
    "from_braket_circuit(b_circuits[2]).draw()"
   ]
  },
  {
   "cell_type": "markdown",
   "id": "589046aa",
   "metadata": {},
   "source": [
    "### Perform some operations on the converted Qiskit quantum circuits\n",
    "\n",
    "..."
   ]
  },
  {
   "cell_type": "markdown",
   "id": "7e1368d7",
   "metadata": {},
   "source": [
    "---"
   ]
  },
  {
   "cell_type": "markdown",
   "id": "f6ae8eba",
   "metadata": {},
   "source": [
    "## Qiskit and Braket combined"
   ]
  },
  {
   "cell_type": "markdown",
   "id": "f99df1c8",
   "metadata": {},
   "source": [
    "We can check that Qiskit and Braket circuits are convertible into each other without notable loss of important information."
   ]
  },
  {
   "cell_type": "code",
   "execution_count": 409,
   "id": "c15d4ba8",
   "metadata": {},
   "outputs": [
    {
     "data": {
      "text/plain": [
       "True"
      ]
     },
     "execution_count": 409,
     "metadata": {},
     "output_type": "execute_result"
    }
   ],
   "source": [
    "b_qc0 == convert_qiskit_to_braket_circuit(from_braket_circuit(b_qc0))"
   ]
  },
  {
   "cell_type": "code",
   "execution_count": 411,
   "id": "883085f9",
   "metadata": {
    "scrolled": true
   },
   "outputs": [
    {
     "data": {
      "text/plain": [
       "False"
      ]
     },
     "execution_count": 411,
     "metadata": {},
     "output_type": "execute_result"
    }
   ],
   "source": [
    "q_qc0 == from_braket_circuit(convert_qiskit_to_braket_circuit(q_qc0))"
   ]
  }
 ],
 "metadata": {
  "kernelspec": {
   "display_name": "Python 3 (ipykernel)",
   "language": "python",
   "name": "python3"
  },
  "language_info": {
   "codemirror_mode": {
    "name": "ipython",
    "version": 3
   },
   "file_extension": ".py",
   "mimetype": "text/x-python",
   "name": "python",
   "nbconvert_exporter": "python",
   "pygments_lexer": "ipython3",
   "version": "3.11.4"
  }
 },
 "nbformat": 4,
 "nbformat_minor": 5
}
